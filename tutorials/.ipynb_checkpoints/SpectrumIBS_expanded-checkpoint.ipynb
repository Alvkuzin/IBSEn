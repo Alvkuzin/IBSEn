{
 "cells": [
  {
   "cell_type": "markdown",
   "id": "d6f75a63-f478-4f15-bf0b-063f34bd7d29",
   "metadata": {},
   "source": [
    "**Note on the imported packages.** At some point, we will use Naima here, and if I understand correctly, it requires Numpy v. < 2. But I had Numpy of the version 2...! So you can either downgrade Numpy to <2, or (what my best friend ChatGPT said to do) create an environment with Numpy < 2 and Naima installed (and some other packages which do not seem to be in conflict with Numpy or Naima). If you follow the second way, ensure that this Notebook is launched from the right environment. \n",
    "\n",
    "But if you just want to use IBSEn for Orbit / Winds & Stars / IBS / electron evolution and NOT for specta / light curves, you're good to go without Naima.\n"
   ]
  },
  {
   "cell_type": "code",
   "execution_count": 3,
   "id": "ba873f31-972b-4ffa-a4cf-b4b191bad478",
   "metadata": {},
   "outputs": [],
   "source": [
    "import numpy as np\n",
    "from numpy import sin, cos, pi\n",
    "import matplotlib.pyplot as plt\n",
    "import ibsen\n"
   ]
  },
  {
   "cell_type": "code",
   "execution_count": 6,
   "id": "1803a73d-9fe1-4534-98a2-e630b977f92a",
   "metadata": {},
   "outputs": [],
   "source": [
    "from ibsen.orbit import Orbit\n",
    "\n",
    "DAY = 86400.\n",
    "AU = 1.5e13\n",
    "\n",
    "sys_name = 'psrb' \n",
    "orb = Orbit(sys_name = sys_name, n=1003)\n"
   ]
  },
  {
   "cell_type": "code",
   "execution_count": 7,
   "id": "1224fbdc-1efa-492d-b4a9-b5a245f2591e",
   "metadata": {},
   "outputs": [],
   "source": [
    "from ibsen.winds import Winds\n",
    "winds = Winds(orbit=orb, sys_name = sys_name, alpha=-10/180*pi, incl=23*pi/180,\n",
    "              f_d=165, f_p=0.1, delta=0.02, np_disk=3, rad_prof='pl', r_trunk=None,\n",
    "             height_exp=0.25)\n",
    "\n"
   ]
  },
  {
   "cell_type": "code",
   "execution_count": 12,
   "id": "17fdfc8f-048c-42a4-9674-83a0fa29ac50",
   "metadata": {},
   "outputs": [],
   "source": [
    "from ibsen.ibs import IBS\n",
    "from ibsen.el_ev import ElectronsOnIBS\n",
    "from scipy.integrate import trapezoid\n",
    "\n",
    "t = 15 * DAY\n",
    "Nibs = 41\n",
    "ibs = IBS(beta=None,\n",
    "          winds=winds,\n",
    "          gamma_max=3.,\n",
    "          s_max=1.,\n",
    "          s_max_g=4.,\n",
    "          n=Nibs,\n",
    "          one_horn=False,\n",
    "          t_to_calculate_beta_eff=t) # the same IBS as before\n",
    "\n",
    "els = ElectronsOnIBS(\n",
    "                     Bp_apex=1, # The magnetic field [G] in the Apex of the IBS coming from pulsar. Mandatory.\n",
    "                     ibs=ibs, # The IBS at which the e-spec should be calculated. Mandatory.\n",
    "                     cooling='adv', # How to cool the particles. Default is None.\n",
    "                     to_inject_e = 'ecpl', # The injection spectrum keyword. Current options: 'ecpl' (default) or 'pl'.\n",
    "                     to_inject_theta = '3d', # If '2d', then injection distribution over theta is uniform. \n",
    "                                             # If '3d' (default), then \\propto sin(theta). \n",
    "    \n",
    "                     ecut = 5.e12,  # Cutoff energy [eV] for ecpl. Default is 1e12.\n",
    "                     p_e = 1.8, # the injection spectrum index. Default is 2.\n",
    "                     to_cut_e = True, # If to set injecttion spectrum to 0 outside of the band emin < e < emax. Default is True.\n",
    "                     emin = 1e9, # If to_cut_e == True, then it is the min e-energy of inj spectrum [eV]. Default is 1e9. \n",
    "                     emax = 5e14, # If to_cut_e == True, then it is the max e-energy of inj spectrum [eV]. Default is 5.1e14. \n",
    "                     norm_e = 1.e37, # the overall normalization of the injection spectrum. Default is 1e37. \n",
    "                                     # if cooling != 'no', then norm_e is treated as total number of injected e- / second.\n",
    "    \n",
    "                     Bs_apex=0., # The magnetic field [G] in the Apex of the IBS coming from opt. star. Default is 0.\n",
    "                     eta_a = 1e20, # t_a = eta_a * dist/c. Can be either a float of None. If None, then the value\n",
    "                                    # 1e20 is used. It is hardcoded that any value above 1e10 is essentially infinity,\n",
    "                                    # so if you want no adiabatic losses, pass either eta_a > 1e10 or eta_a = None.\n",
    "                                    #    Default is None.\n",
    "    \n",
    "                     eta_syn = 1., # coef before synchrotron losses term. Default is 1.\n",
    "                     eta_ic = 1., # coef before IC losses term. Default is 1.\n",
    "                     to_cut_theta =  False, # If to inject only at theta < where_cut_theta.\n",
    "                     where_cut_theta = pi/2, # If to_cut_theta == True, then non-zero injection is only at theta < where_cut_theta.\n",
    "                                             # Default if pi/2. \n",
    "                     ) \n",
    "\n",
    "\n",
    "els.calculate(to_set_onto_ibs=True, to_return=False)\n"
   ]
  },
  {
   "cell_type": "markdown",
   "id": "2ebecced-d5d3-49ee-80eb-286d35720a8f",
   "metadata": {},
   "source": [
    "Now it's close to finish: let's calculate the spectrum of the IBS. We know its shape, we know everything about electrons emitting, so we can calculate the Synchrotron and inverse Compton emission. This is done using \\texttt{Naima} code, so you should have it installed. As before, the description of all the needed parameters is given right in the Python code, but I want to comment on how the logic of the calcultion works.\n",
    "- We get all parameters like magnetic and photon fields in apex and then recalculate them to every point of the IBS\n",
    "- You also know the electrons spectrum $n_e(s, E)$ in the lab frame.\n",
    "- If you want to: ``lorenrz_boost=True``, you can recalculate everything to the co-moving systems of frame $B\\rightarrow B' = B\\sqrt{\\frac{2\\Gamma^2+1}{3}}$, $u \\rightarrow u' = u\\Gamma^2 \\frac{3+\\beta^2}{3}$, \\begin{equation}\n",
    "        n(E) \\rightarrow n'(E') = \\frac{1}{2}\\int_{-1}^1 \\frac{n(E'\\Gamma(1+\\beta\\mu'))}{\\Gamma(1+\\beta\\mu')} d\\mu'.\n",
    "    \\end{equation}\n",
    "- Then, using either primed or not primed values, Sy+IC spectrum may be calcuated. For each $s$, \\texttt{Naima} gives the SED $E'F'(E')$. It gets Doppler-boosted to the lab frame: $EF(E) = \\delta^\\mathrm{3~or~4} E'F'(E')\\Bigg|_{E'=E/\\delta}$. I am not sure what the power (3 or 4) should be of the Doppler factor $\\delta = 1/(\\Gamma(1-\\beta \\mu))$. Let's denote this power $p_\\delta$. But anyay, the total spectrum is then summarized over the whole IBS:\n",
    "\\begin{equation}\n",
    "        E F(E) = \\frac{\\int  (E'F'(E', s))^{\\rm Naima} \\times \\delta_\\mathrm{doppl}(s)^{p_\\delta} ~ds}{\\int ds} \\Bigg|_{\\nu' = \\nu/\\delta(s)}\n",
    "\\end{equation}\n",
    "\n",
    "If you want to calculate the spectrum quicker, you can set ``simple=True`` to do it simpler (but slightly incorrectly). Then the \\texttt{Naima} will calculate the SED only in the apex, and this SED then will be rescaled to each point of the IBS by $\\mathrm{SED}_\\mathrm{Sy}(s) = \\mathrm{SED}_\\mathrm{Sy}(0) \\times (B(s)/B(0))^2$, $\\mathrm{SED}_\\mathrm{IC}(s) = \\mathrm{SED}_\\mathrm{Sy}(0) \\times u_\\gamma(s)/u_\\gamma(0)$. After that, the total spectrum will be doppler-boosted as before.\n"
   ]
  },
  {
   "cell_type": "code",
   "execution_count": 14,
   "id": "db38ccf3-d239-4cc2-9513-e11e00bd9ba1",
   "metadata": {},
   "outputs": [
    {
     "name": "stdout",
     "output_type": "stream",
     "text": [
      "1.4344550854451406\n",
      "Swift 0.3-10 keV flux is 2.686096907528001e-12\n",
      "H.E.S.S. 0.4-100 TeV flux is 2.7434689842195976e-12\n",
      "(500,)\n",
      "(500,)\n"
     ]
    },
    {
     "data": {
      "text/plain": [
       "Text(0.5, 0, '$\\\\theta$, deg')"
      ]
     },
     "execution_count": 14,
     "metadata": {},
     "output_type": "execute_result"
    },
    {
     "data": {
      "image/png": "[encoded data removed]",
      "text/plain": [
       "<Figure size 640x480 with 2 Axes>"
      ]
     },
     "metadata": {},
     "output_type": "display_data"
    }
   ],
   "source": [
    "from ibsen.spec import SpectrumIBS\n",
    "from scipy.optimize import curve_fit\n",
    "\n",
    "def powerlaw(E, g, norm):\n",
    "    return norm * E**(-g)\n",
    "\n",
    "spec = SpectrumIBS(els=els, # els:ElectronsOnIBS class. Mandatory\n",
    "                   simple=True, # Whether to calculate the spectrum in a simple fashion (see above). Default is False.\n",
    "                   syn_only=False, # Whether to calculate only Sy emission. Default it False.\n",
    "                   delta_power=3, # The power p_delta (see above). Default is 4.\n",
    "                   lorentz_boost=True, # Whether to perform Lorentz boost B, u_g, and n(s, E). Default is True.\n",
    "                                       # If simple=True was set, the e-spectrum\n",
    "                                       # n(s, E) will not be transformed, but the s-averaged spectrum (in lab frame) will be used instead. \n",
    "                   \n",
    "                   abs_photoel=True, # Whether to include the TBabs-like photoelectric absorbtion. Default is True.\n",
    "                   nh_tbabs=0.8, # If abs_photoel=True, this is the N_H (in units of 10^22) to use. Default is 0.8. \n",
    "                   abs_gg=False, # Whether to include the gamma-gamma absorbtion. Experimental feature, only for PSR B1259-63,\n",
    "                                 # since it uses the tabulated values.\n",
    "                   \n",
    "                   distance = None # The distance to the system [cm]. Default is None. It will try to get the distance from the \n",
    "                                   # parameters that you provided for orbit:Orbit, but distance=<some_float> overwrites it.\n",
    "                  )\n",
    "\n",
    "\n",
    "E_ = np.logspace(2, 14, 500) \n",
    "(e_ph_here, # the grid of photon energies. It should be = E_, but I'm not sure hahhaaaa\n",
    " sed_here, # the total SED from IBS: 1-d array of length len(e_ph_here)\n",
    " sed_s_here # the SED from each point on IBS. 2-d array of shape (len(ibs.s), len(e_ph_here))\n",
    ") = spec.calculate_sed_on_ibs(to_return=True, # If to return SED. Default is False\n",
    "                                     to_set_onto_ibs=True, # If to remember the calculated spec, so you can access it as\n",
    "                                                             # the class attributes later. Default is True.\n",
    "                                     \n",
    "                                     E = E_ # On which energies to calculate the spectrum. Default is np.logspace(2, 14, 1000).\n",
    "                                     )\n",
    "\n",
    "\n",
    "#### Calculate the index of the spectrum in Swift energy range. \n",
    "#### To avoid effects of absorbtion, perform fitting over (3, 10) keV.\n",
    "G_ind_swift = spec.index(e1 = 3e3, e2 = 1e4)\n",
    "print(G_ind_swift)\n",
    "###########################################################\n",
    "emissiv_s = trapezoid(spec.sed_s/e_ph_here, e_ph_here, axis=1) # The total flux from the point on IBS\n",
    "\n",
    "########### Calculate fluxes in keV and TeV ranges.\n",
    "fl_swift, fl_hess = spec.fluxes( bands = (\n",
    "                                          [3e2, 1e4],\n",
    "                                          [4e11, 1e14]\n",
    "                                         )\n",
    "                               )\n",
    "print('Swift 0.3-10 keV flux is', fl_swift)\n",
    "print('H.E.S.S. 0.4-100 TeV flux is', fl_hess)\n",
    "\n",
    "fix, ax = plt.subplots(nrows = 2, ncols = 1)\n",
    "print(spec.e_ph.shape)\n",
    "print(sed_here.shape)\n",
    "ax[0].plot(spec.e_ph, sed_here)\n",
    "ax[0].set_xscale('log')\n",
    "ax[0].set_yscale('log')\n",
    "ax[0].set_ylim(np.max(sed_here)/1e3, np.max(sed_here)*2)\n",
    "ax[0].set_ylabel(r'$EF_E$, erg/s')\n",
    "ax[0].set_xlabel(r'$E$, eV')\n",
    "\n",
    "\n",
    "ax[1].plot(spec.els.ibs.theta*180/np.pi, emissiv_s)\n",
    "ax[1].set_ylabel(r'$EF_E(\\theta)$, erg/s')\n",
    "ax[1].set_xlabel(r'$\\theta$, deg')\n",
    "\n"
   ]
  },
  {
   "cell_type": "code",
   "execution_count": null,
   "id": "b74bd1eb-f0c7-404f-b812-d7083f86b690",
   "metadata": {},
   "outputs": [],
   "source": []
  }
 ],
 "metadata": {
  "kernelspec": {
   "display_name": "Python 3 (ipykernel)",
   "language": "python",
   "name": "python3"
  },
  "language_info": {
   "codemirror_mode": {
    "name": "ipython",
    "version": 3
   },
   "file_extension": ".py",
   "mimetype": "text/x-python",
   "name": "python",
   "nbconvert_exporter": "python",
   "pygments_lexer": "ipython3",
   "version": "3.11.13"
  }
 },
 "nbformat": 4,
 "nbformat_minor": 5
}
